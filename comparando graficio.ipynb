{
 "cells": [
  {
   "cell_type": "code",
   "execution_count": 4,
   "id": "71da90ad",
   "metadata": {},
   "outputs": [
    {
     "data": {
      "image/png": "[encoded data removed]",
      "text/plain": [
       "<Figure size 432x288 with 1 Axes>"
      ]
     },
     "metadata": {
      "needs_background": "light"
     },
     "output_type": "display_data"
    }
   ],
   "source": [
    "import matplotlib.pyplot as plt\n",
    "\n",
    "\n",
    "\n",
    "x1 = [1,3,5,7,9]\n",
    "y1 = [2,3,7,1,0]\n",
    "\n",
    "\n",
    "x2 = [2,4,6,8,10]\n",
    "y2 = [5,1,3,7,4]\n",
    "\n",
    "\n",
    "titulo = \"grafico de barras 2\"\n",
    "eixox = \"eixo x\"\n",
    "eixoy = \"eixo y\"\n",
    "\n",
    "\n",
    "\n",
    "# nome do grafico\n",
    "plt.title(\"titulo\")\n",
    "\n",
    "# definir legenas\n",
    "plt.xlabel(\"eixox\")\n",
    "plt.ylabel(\"eixoy\")\n",
    "\n",
    "\n",
    "plt.bar (x1,y1, label = \"grupo1\")\n",
    "plt.bar (x2,y2, label = \"grupo2\")\n",
    "plt.legend()\n",
    "\n",
    "plt.show()"
   ]
  },
  {
   "cell_type": "code",
   "execution_count": null,
   "id": "59ce3b8e",
   "metadata": {},
   "outputs": [],
   "source": []
  }
 ],
 "metadata": {
  "kernelspec": {
   "display_name": "Python 3",
   "language": "python",
   "name": "python3"
  }
 },
 "nbformat": 4,
 "nbformat_minor": 5
}
